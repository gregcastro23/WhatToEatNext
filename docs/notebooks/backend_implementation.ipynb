{
  "cells": [
    {
      "cell_type": "markdown",
      "metadata": {},
      "source": [
        "# Backend Implementation for alchm.kitchen\n",
        "## Comprehensive Backend Services Architecture\n",
        "\n",
        "**Created:** December 21, 2024  \n",
        "**Purpose:** Complete backend implementation for WhatToEatNext project with alchemical calculations, recommendations, and real-time features\n",
        "\n",
        "### Architecture Overview\n",
        "- **Main Backend**: Alchemical calculations, thermodynamics, tokens (Port 8000)\n",
        "- **Kitchen Backend**: Culinary recommendations, cuisine expertise (Port 8100)\n",
        "- **WebSocket Server**: Real-time planetary hours, token updates (Port 8001)\n",
        "\n",
        "### Environment Variables Required\n",
        "```env\n",
        "NEXT_PUBLIC_BACKEND_URL=http://localhost:8000\n",
        "NEXT_PUBLIC_KITCHEN_BACKEND_URL=http://localhost:8100\n",
        "NEXT_PUBLIC_WEBSOCKET_URL=ws://localhost:8001\n",
        "NEXT_PUBLIC_PLANETARY_HOURS_BACKEND=true\n",
        "NEXT_PUBLIC_THERMODYNAMICS_BACKEND=true\n",
        "NEXT_PUBLIC_TOKENS_BACKEND=true\n",
        "NEXT_PUBLIC_RUNE_AGENT_BACKEND=true\n",
        "NEXT_PUBLIC_KITCHEN_BACKEND=true\n",
        "```\n"
      ]
    },
    {
      "cell_type": "markdown",
      "metadata": {},
      "source": [
        "## 1. Core Dependencies and Setup\n"
      ]
    },
    {
      "cell_type": "code",
      "execution_count": null,
      "metadata": {},
      "outputs": [],
      "source": [
        "# Install required packages\n",
        "%pip install fastapi uvicorn websockets pydantic python-multipart\n",
        "%pip install pyephem astral numpy pandas python-dateutil\n",
        "%pip install asyncio aiofiles python-dotenv\n"
      ]
    },
    {
      "cell_type": "code",
      "execution_count": null,
      "metadata": {},
      "outputs": [],
      "source": [
        "import asyncio\n",
        "import json\n",
        "import math\n",
        "import random\n",
        "from datetime import datetime, timedelta\n",
        "from typing import Dict, List, Optional, Union, Any\n",
        "from enum import Enum\n",
        "\n",
        "import uvicorn\n",
        "from fastapi import FastAPI, HTTPException, WebSocket, WebSocketDisconnect\n",
        "from fastapi.middleware.cors import CORSMiddleware\n",
        "from pydantic import BaseModel\n",
        "import websockets\n",
        "import numpy as np\n",
        "\n",
        "# Core data models\n",
        "class ElementalProperties(BaseModel):\n",
        "    Fire: float\n",
        "    Water: float\n",
        "    Earth: float\n",
        "    Air: float\n",
        "\n",
        "class ESMSProperties(BaseModel):\n",
        "    Spirit: float\n",
        "    Essence: float\n",
        "    Matter: float\n",
        "    Substance: float\n",
        "\n",
        "class ThermodynamicsResult(BaseModel):\n",
        "    heat: float\n",
        "    entropy: float\n",
        "    reactivity: float\n",
        "    gregsEnergy: float\n",
        "\n",
        "class Planet(str, Enum):\n",
        "    SUN = \"Sun\"\n",
        "    MOON = \"Moon\"\n",
        "    MERCURY = \"Mercury\"\n",
        "    VENUS = \"Venus\"\n",
        "    MARS = \"Mars\"\n",
        "    JUPITER = \"Jupiter\"\n",
        "    SATURN = \"Saturn\"\n",
        "    URANUS = \"Uranus\"\n",
        "    NEPTUNE = \"Neptune\"\n",
        "    PLUTO = \"Pluto\"\n"
      ]
    }
  ],
  "metadata": {
    "language_info": {
      "name": "python"
    }
  },
  "nbformat": 4,
  "nbformat_minor": 2
}

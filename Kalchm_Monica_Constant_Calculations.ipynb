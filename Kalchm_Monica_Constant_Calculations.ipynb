{
  "cells": [
    {
      "cell_type": "code",
      "execution_count": null,
      "metadata": {
        "vscode": {
          "languageId": "plaintext"
        }
      },
      "outputs": [],
      "source": [
        "# Kalchm and Monica Constant System\n",
        "\n",
        "This notebook contains the core alchemical calculations for the Kalchm and Monica Constant system, demonstrating the fundamental thermodynamic metrics used in astrological food recommendations.\n",
        "\n",
        "## Overview\n",
        "\n",
        "The system calculates five key metrics:\n",
        "- **Heat**: Measures active energy (Spirit & Fire vs all other properties)\n",
        "- **Entropy**: Measures disorder (active properties vs passive properties) \n",
        "- **Reactivity**: Measures potential for change (volatile properties vs stable properties)\n",
        "- **Greg's Energy**: Overall energy balance (Heat - Entropy × Reactivity)\n",
        "- **Kalchm (K_alchm)**: Alchemical equilibrium constant\n",
        "- **Monica Constant (M)**: Dynamic system constant relating energy to equilibrium\n"
      ]
    },
    {
      "cell_type": "code",
      "execution_count": null,
      "metadata": {
        "vscode": {
          "languageId": "plaintext"
        }
      },
      "outputs": [],
      "source": [
        "## Mathematical Formulas\n",
        "\n",
        "### Heat\n",
        "```\n",
        "Heat = (Spirit² + Fire²) / (Substance + Essence + Matter + Water + Air + Earth)²\n",
        "```\n",
        "\n",
        "### Entropy  \n",
        "```\n",
        "Entropy = (Spirit² + Substance² + Fire² + Air²) / (Essence + Matter + Earth + Water)²\n",
        "```\n",
        "\n",
        "### Reactivity\n",
        "```\n",
        "Reactivity = (Spirit² + Substance² + Essence² + Fire² + Air² + Water²) / (Matter + Earth)²\n",
        "```\n",
        "\n",
        "### Greg's Energy\n",
        "```\n",
        "Greg's Energy = Heat - (Entropy × Reactivity)\n",
        "```\n",
        "\n",
        "### Kalchm (K_alchm)\n",
        "```\n",
        "K_alchm = (Spirit^Spirit × Essence^Essence) / (Matter^Matter × Substance^Substance)\n",
        "```\n",
        "\n",
        "### Monica Constant (M)\n",
        "```\n",
        "M = -Greg's Energy / (Reactivity × ln(K_alchm))\n",
        "```\n"
      ]
    },
    {
      "cell_type": "code",
      "execution_count": null,
      "metadata": {
        "vscode": {
          "languageId": "javascript"
        }
      },
      "outputs": [],
      "source": [
        "// Define calculation functions\n",
        "\n",
        "function calculateHeat(\n",
        "  spirit, fire, substance, essence,\n",
        "  matter, water, air, earth\n",
        ") {\n",
        "  const numerator = Math.pow(spirit, 2) + Math.pow(fire, 2);\n",
        "  const denominator = Math.pow(substance + essence + matter + water + air + earth, 2);\n",
        "  return numerator / denominator;\n",
        "}\n",
        "\n",
        "function calculateEntropy(\n",
        "  spirit, substance, fire, air,\n",
        "  essence, matter, earth, water\n",
        ") {\n",
        "  const numerator = Math.pow(spirit, 2) + Math.pow(substance, 2) + Math.pow(fire, 2) + Math.pow(air, 2);\n",
        "  const denominator = Math.pow(essence + matter + earth + water, 2);\n",
        "  return numerator / denominator;\n",
        "}\n",
        "\n",
        "function calculateReactivity(\n",
        "  spirit, substance, essence, fire,\n",
        "  air, water, matter, earth\n",
        ") {\n",
        "  const numerator = Math.pow(spirit, 2) + Math.pow(substance, 2) + Math.pow(essence, 2)\n",
        "    + Math.pow(fire, 2) + Math.pow(air, 2) + Math.pow(water, 2);\n",
        "  const denominator = Math.pow(matter + earth, 2);\n",
        "  return numerator / denominator;\n",
        "}\n",
        "\n",
        "function calculateGregsEnergy(heat, entropy, reactivity) {\n",
        "  return heat - (entropy * reactivity);\n",
        "}\n",
        "\n",
        "function calculateKAlchm(spirit, essence, matter, substance) {\n",
        "  return (Math.pow(spirit, spirit) * Math.pow(essence, essence)) /\n",
        "         (Math.pow(matter, matter) * Math.pow(substance, substance));\n",
        "}\n",
        "\n",
        "function calculateMonicaConstant(gregsEnergy, reactivity, K_alchm) {\n",
        "  const ln_K = Math.log(K_alchm);\n",
        "  if (K_alchm > 0 && ln_K !== 0) {\n",
        "    return -gregsEnergy / (reactivity * ln_K);\n",
        "  } else {\n",
        "    return NaN;\n",
        "  }\n",
        "}\n",
        "\n",
        "console.log(\"✅ Calculation functions defined successfully\");\n"
      ]
    },
    {
      "cell_type": "code",
      "execution_count": null,
      "metadata": {
        "vscode": {
          "languageId": "javascript"
        }
      },
      "outputs": [],
      "source": [
        "// Define example values for current calculation\n",
        "const spirit = 4;\n",
        "const essence = 7;\n",
        "const matter = 6;\n",
        "const substance = 2;\n",
        "const fire = 1.0;\n",
        "const water = 0.6;\n",
        "const air = 0.6;\n",
        "const earth = 0.7;\n",
        "\n",
        "console.log(\"=== Input Values ===\");\n",
        "console.log(`Spirit: ${spirit}`);\n",
        "console.log(`Essence: ${essence}`);\n",
        "console.log(`Matter: ${matter}`);\n",
        "console.log(`Substance: ${substance}`);\n",
        "console.log(`Fire: ${fire}`);\n",
        "console.log(`Water: ${water}`);\n",
        "console.log(`Air: ${air}`);\n",
        "console.log(`Earth: ${earth}`);\n"
      ]
    },
    {
      "cell_type": "code",
      "execution_count": null,
      "metadata": {
        "vscode": {
          "languageId": "javascript"
        }
      },
      "outputs": [],
      "source": [
        "// Perform all calculations\n",
        "const heat = calculateHeat(spirit, fire, substance, essence, matter, water, air, earth);\n",
        "const entropy = calculateEntropy(spirit, substance, fire, air, essence, matter, earth, water);\n",
        "const reactivity = calculateReactivity(spirit, substance, essence, fire, air, water, matter, earth);\n",
        "const gregsEnergy = calculateGregsEnergy(heat, entropy, reactivity);\n",
        "const K_alchm = calculateKAlchm(spirit, essence, matter, substance);\n",
        "const M = calculateMonicaConstant(gregsEnergy, reactivity, K_alchm);\n",
        "\n",
        "console.log(\"=== Calculated Results ===\");\n",
        "console.log(`Heat: ${heat.toFixed(6)}`);\n",
        "console.log(`Entropy: ${entropy.toFixed(6)}`);\n",
        "console.log(`Reactivity: ${reactivity.toFixed(6)}`);\n",
        "console.log(`Greg's Energy: ${gregsEnergy.toFixed(6)}`);\n",
        "console.log(`K_alchm: ${K_alchm.toFixed(6)}`);\n",
        "console.log(`Monica Constant (M): ${M.toFixed(6)}`);\n"
      ]
    },
    {
      "cell_type": "code",
      "execution_count": null,
      "metadata": {
        "vscode": {
          "languageId": "javascript"
        }
      },
      "outputs": [],
      "source": [
        "// Detailed step-by-step breakdown\n",
        "console.log(\"=== Step-by-Step Calculation Details ===\\n\");\n",
        "\n",
        "console.log(\"1. Heat Calculation:\");\n",
        "console.log(`   Numerator: Spirit² + Fire² = ${spirit}² + ${fire}² = ${Math.pow(spirit, 2)} + ${Math.pow(fire, 2)} = ${Math.pow(spirit, 2) + Math.pow(fire, 2)}`);\n",
        "const heatDenomBase = substance + essence + matter + water + air + earth;\n",
        "console.log(`   Denominator: (${substance} + ${essence} + ${matter} + ${water} + ${air} + ${earth})² = ${heatDenomBase}² = ${Math.pow(heatDenomBase, 2)}`);\n",
        "console.log(`   Heat = ${Math.pow(spirit, 2) + Math.pow(fire, 2)} / ${Math.pow(heatDenomBase, 2)} = ${heat.toFixed(6)}\\n`);\n",
        "\n",
        "console.log(\"2. Entropy Calculation:\");\n",
        "const entropyNum = Math.pow(spirit, 2) + Math.pow(substance, 2) + Math.pow(fire, 2) + Math.pow(air, 2);\n",
        "const entropyDenomBase = essence + matter + earth + water;\n",
        "console.log(`   Numerator: ${spirit}² + ${substance}² + ${fire}² + ${air}² = ${entropyNum}`);\n",
        "console.log(`   Denominator: (${essence} + ${matter} + ${earth} + ${water})² = ${entropyDenomBase}² = ${Math.pow(entropyDenomBase, 2)}`);\n",
        "console.log(`   Entropy = ${entropyNum} / ${Math.pow(entropyDenomBase, 2)} = ${entropy.toFixed(6)}\\n`);\n",
        "\n",
        "console.log(\"3. Reactivity Calculation:\");\n",
        "const reactivityNum = Math.pow(spirit, 2) + Math.pow(substance, 2) + Math.pow(essence, 2) + Math.pow(fire, 2) + Math.pow(air, 2) + Math.pow(water, 2);\n",
        "const reactivityDenomBase = matter + earth;\n",
        "console.log(`   Numerator: ${spirit}² + ${substance}² + ${essence}² + ${fire}² + ${air}² + ${water}² = ${reactivityNum}`);\n",
        "console.log(`   Denominator: (${matter} + ${earth})² = ${reactivityDenomBase}² = ${Math.pow(reactivityDenomBase, 2)}`);\n",
        "console.log(`   Reactivity = ${reactivityNum} / ${Math.pow(reactivityDenomBase, 2)} = ${reactivity.toFixed(6)}\\n`);\n",
        "\n",
        "console.log(\"4. Greg's Energy:\");\n",
        "console.log(`   Greg's Energy = Heat - (Entropy × Reactivity)`);\n",
        "console.log(`   = ${heat.toFixed(6)} - (${entropy.toFixed(6)} × ${reactivity.toFixed(6)})`);\n",
        "console.log(`   = ${heat.toFixed(6)} - ${(entropy * reactivity).toFixed(6)} = ${gregsEnergy.toFixed(6)}\\n`);\n",
        "\n",
        "console.log(\"5. Kalchm (K_alchm):\");\n",
        "console.log(`   K_alchm = (Spirit^Spirit × Essence^Essence) / (Matter^Matter × Substance^Substance)`);\n",
        "console.log(`   = (${spirit}^${spirit} × ${essence}^${essence}) / (${matter}^${matter} × ${substance}^${substance})`);\n",
        "console.log(`   = (${Math.pow(spirit, spirit)} × ${Math.pow(essence, essence)}) / (${Math.pow(matter, matter)} × ${Math.pow(substance, substance)})`);\n",
        "console.log(`   = ${Math.pow(spirit, spirit) * Math.pow(essence, essence)} / ${Math.pow(matter, matter) * Math.pow(substance, substance)} = ${K_alchm.toFixed(6)}\\n`);\n",
        "\n",
        "console.log(\"6. Monica Constant:\");\n",
        "const lnK = Math.log(K_alchm);\n",
        "console.log(`   ln(K_alchm) = ln(${K_alchm.toFixed(6)}) = ${lnK.toFixed(6)}`);\n",
        "console.log(`   M = -Greg's Energy / (Reactivity × ln(K_alchm))`);\n",
        "console.log(`   = -${gregsEnergy.toFixed(6)} / (${reactivity.toFixed(6)} × ${lnK.toFixed(6)})`);\n",
        "console.log(`   = ${(-gregsEnergy).toFixed(6)} / ${(reactivity * lnK).toFixed(6)} = ${M.toFixed(6)}`);\n"
      ]
    },
    {
      "cell_type": "code",
      "execution_count": null,
      "metadata": {
        "vscode": {
          "languageId": "javascript"
        }
      },
      "outputs": [],
      "source": [
        "## System Summary\n",
        "\n",
        "### Key Properties\n",
        "\n",
        "**Alchemical Properties (ESMS System):**\n",
        "- Spirit: Active principle, drives transformation\n",
        "- Essence: Core nature, fundamental quality  \n",
        "- Matter: Physical manifestation, tangible form\n",
        "- Substance: Structural foundation, stability\n",
        "\n",
        "**Elemental Properties:**\n",
        "- Fire: Active energy, heat, transformation\n",
        "- Water: Passive energy, cooling, preservation\n",
        "- Air: Movement, change, volatility\n",
        "- Earth: Stability, grounding, structure\n",
        "\n",
        "### Notes\n",
        "\n",
        "- All formulas use exact denominators (no correction factors)\n",
        "- Values are uncapped and reflect the true system state  \n",
        "- Monica constant varies dynamically with planetary and elemental conditions\n",
        "- The system maintains consistency with classical alchemical principles\n",
        "- Each metric captures a different aspect of the overall energetic state\n",
        "- Spirit: Active principle, drives transformation\n",
        "- Essence: Core nature, fundamental quality  \n",
        "- Matter: Physical manifestation, tangible form\n",
        "- Substance: Structural foundation, stability\n",
        "\n",
        "**Elemental Properties:**\n",
        "- Fire: Active energy, heat, transformation\n",
        "- Water: Passive energy, cooling, preservation\n",
        "- Air: Movement, change, volatility\n",
        "- Earth: Stability, grounding, structure\n",
        "\n",
        "### Notes\n",
        "\n",
        "- All formulas use exact denominators (no correction factors)\n",
        "- Values are uncapped and reflect the true system state  \n",
        "- Monica constant varies dynamically with planetary and elemental conditions\n",
        "- The system maintains consistency with classical alchemical principles\n",
        "- Each metric captures a different aspect of the overall energetic state\n"
      ]
    },
    {
      "cell_type": "code",
      "execution_count": null,
      "metadata": {
        "vscode": {
          "languageId": "javascript"
        }
      },
      "outputs": [],
      "source": [
        "// Interactive function to test different values\n",
        "function runCalculationWithValues(spiritVal, essenceVal, matterVal, substanceVal, \n",
        "                                fireVal, waterVal, airVal, earthVal) {\n",
        "    console.log(\"=== Custom Calculation ===\");\n",
        "    console.log(`Input: Spirit=${spiritVal}, Essence=${essenceVal}, Matter=${matterVal}, Substance=${substanceVal}`);\n",
        "    console.log(`       Fire=${fireVal}, Water=${waterVal}, Air=${airVal}, Earth=${earthVal}`);\n",
        "    \n",
        "    const h = calculateHeat(spiritVal, fireVal, substanceVal, essenceVal, matterVal, waterVal, airVal, earthVal);\n",
        "    const ent = calculateEntropy(spiritVal, substanceVal, fireVal, airVal, essenceVal, matterVal, earthVal, waterVal);\n",
        "    const react = calculateReactivity(spiritVal, substanceVal, essenceVal, fireVal, airVal, waterVal, matterVal, earthVal);\n",
        "    const greg = calculateGregsEnergy(h, ent, react);\n",
        "    const kalchm = calculateKAlchm(spiritVal, essenceVal, matterVal, substanceVal);\n",
        "    const monica = calculateMonicaConstant(greg, react, kalchm);\n",
        "    \n",
        "    console.log(`Results: Heat=${h.toFixed(4)}, Entropy=${ent.toFixed(4)}, Reactivity=${react.toFixed(4)}`);\n",
        "    console.log(`         Greg's Energy=${greg.toFixed(4)}, K_alchm=${kalchm.toFixed(4)}, Monica=${monica.toFixed(4)}`);\n",
        "    \n",
        "    return { heat: h, entropy: ent, reactivity: react, gregsEnergy: greg, kalchm: kalchm, monica: monica };\n",
        "}\n",
        "\n",
        "// Example usage with different values\n",
        "console.log(\"Testing alternative configurations:\\n\");\n",
        "\n",
        "// Balanced configuration\n",
        "runCalculationWithValues(3, 3, 3, 3, 0.5, 0.5, 0.5, 0.5);\n",
        "\n",
        "// High Spirit configuration\n",
        "runCalculationWithValues(8, 2, 2, 2, 0.8, 0.2, 0.2, 0.2);\n",
        "\n",
        "// High Earth/Water configuration\n",
        "runCalculationWithValues(2, 2, 8, 2, 0.2, 0.8, 0.2, 0.8);\n"
      ]
    }
  ],
  "metadata": {
    "language_info": {
      "name": "python"
    }
  },
  "nbformat": 4,
  "nbformat_minor": 2
}
